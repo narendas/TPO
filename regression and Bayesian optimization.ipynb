{
 "cells": [
  {
   "cell_type": "code",
   "execution_count": 1,
   "metadata": {},
   "outputs": [],
   "source": [
    "import pandas as pd\n",
    "import matplotlib.pyplot as plt\n",
    "import os"
   ]
  },
  {
   "cell_type": "code",
   "execution_count": 2,
   "metadata": {},
   "outputs": [
    {
     "ename": "PermissionError",
     "evalue": "[Errno 13] Permission denied: 'Bayesian Opt'",
     "output_type": "error",
     "traceback": [
      "\u001b[1;31m---------------------------------------------------------------------------\u001b[0m",
      "\u001b[1;31mPermissionError\u001b[0m                           Traceback (most recent call last)",
      "\u001b[1;32m<ipython-input-2-783d728b18aa>\u001b[0m in \u001b[0;36m<module>\u001b[1;34m\u001b[0m\n\u001b[1;32m----> 1\u001b[1;33m \u001b[0mdata\u001b[0m \u001b[1;33m=\u001b[0m \u001b[0mpd\u001b[0m\u001b[1;33m.\u001b[0m\u001b[0mread_csv\u001b[0m\u001b[1;33m(\u001b[0m\u001b[0mos\u001b[0m\u001b[1;33m.\u001b[0m\u001b[0mlistdir\u001b[0m\u001b[1;33m(\u001b[0m\u001b[1;33m)\u001b[0m\u001b[1;33m[\u001b[0m\u001b[1;36m2\u001b[0m\u001b[1;33m]\u001b[0m\u001b[1;33m)\u001b[0m\u001b[1;33m\u001b[0m\u001b[1;33m\u001b[0m\u001b[0m\n\u001b[0m\u001b[0;32m      2\u001b[0m \u001b[1;33m\u001b[0m\u001b[0m\n\u001b[0;32m      3\u001b[0m \u001b[0mrefined_data\u001b[0m\u001b[1;33m=\u001b[0m \u001b[0mdata\u001b[0m\u001b[1;33m[\u001b[0m\u001b[1;33m(\u001b[0m\u001b[0mdata\u001b[0m\u001b[1;33m[\u001b[0m\u001b[1;34m'Product'\u001b[0m\u001b[1;33m]\u001b[0m\u001b[1;33m==\u001b[0m\u001b[1;36m1\u001b[0m\u001b[1;33m)\u001b[0m\u001b[1;33m&\u001b[0m\u001b[1;33m(\u001b[0m\u001b[0mdata\u001b[0m\u001b[1;33m[\u001b[0m\u001b[1;34m'Store'\u001b[0m\u001b[1;33m]\u001b[0m\u001b[1;33m==\u001b[0m\u001b[1;36m1\u001b[0m\u001b[1;33m)\u001b[0m\u001b[1;33m]\u001b[0m\u001b[1;33m.\u001b[0m\u001b[0miloc\u001b[0m\u001b[1;33m[\u001b[0m\u001b[1;33m:\u001b[0m\u001b[1;33m-\u001b[0m\u001b[1;36m23\u001b[0m\u001b[1;33m,\u001b[0m\u001b[1;33m:\u001b[0m\u001b[1;33m]\u001b[0m\u001b[1;33m\u001b[0m\u001b[1;33m\u001b[0m\u001b[0m\n\u001b[0;32m      4\u001b[0m \u001b[0mbackup_data\u001b[0m \u001b[1;33m=\u001b[0m \u001b[0mdata\u001b[0m\u001b[1;33m[\u001b[0m\u001b[1;33m(\u001b[0m\u001b[0mdata\u001b[0m\u001b[1;33m[\u001b[0m\u001b[1;34m'Product'\u001b[0m\u001b[1;33m]\u001b[0m\u001b[1;33m==\u001b[0m\u001b[1;36m1\u001b[0m\u001b[1;33m)\u001b[0m\u001b[1;33m&\u001b[0m\u001b[1;33m(\u001b[0m\u001b[0mdata\u001b[0m\u001b[1;33m[\u001b[0m\u001b[1;34m'Store'\u001b[0m\u001b[1;33m]\u001b[0m\u001b[1;33m==\u001b[0m\u001b[1;36m1\u001b[0m\u001b[1;33m)\u001b[0m\u001b[1;33m]\u001b[0m\u001b[1;33m.\u001b[0m\u001b[0miloc\u001b[0m\u001b[1;33m[\u001b[0m\u001b[1;33m-\u001b[0m\u001b[1;36m23\u001b[0m\u001b[1;33m:\u001b[0m\u001b[1;33m,\u001b[0m\u001b[1;33m:\u001b[0m\u001b[1;33m]\u001b[0m\u001b[1;33m\u001b[0m\u001b[1;33m\u001b[0m\u001b[0m\n\u001b[0;32m      5\u001b[0m \u001b[1;33m\u001b[0m\u001b[0m\n",
      "\u001b[1;32m~\\anaconda3\\lib\\site-packages\\pandas\\io\\parsers.py\u001b[0m in \u001b[0;36mread_csv\u001b[1;34m(filepath_or_buffer, sep, delimiter, header, names, index_col, usecols, squeeze, prefix, mangle_dupe_cols, dtype, engine, converters, true_values, false_values, skipinitialspace, skiprows, skipfooter, nrows, na_values, keep_default_na, na_filter, verbose, skip_blank_lines, parse_dates, infer_datetime_format, keep_date_col, date_parser, dayfirst, cache_dates, iterator, chunksize, compression, thousands, decimal, lineterminator, quotechar, quoting, doublequote, escapechar, comment, encoding, dialect, error_bad_lines, warn_bad_lines, delim_whitespace, low_memory, memory_map, float_precision)\u001b[0m\n\u001b[0;32m    684\u001b[0m     )\n\u001b[0;32m    685\u001b[0m \u001b[1;33m\u001b[0m\u001b[0m\n\u001b[1;32m--> 686\u001b[1;33m     \u001b[1;32mreturn\u001b[0m \u001b[0m_read\u001b[0m\u001b[1;33m(\u001b[0m\u001b[0mfilepath_or_buffer\u001b[0m\u001b[1;33m,\u001b[0m \u001b[0mkwds\u001b[0m\u001b[1;33m)\u001b[0m\u001b[1;33m\u001b[0m\u001b[1;33m\u001b[0m\u001b[0m\n\u001b[0m\u001b[0;32m    687\u001b[0m \u001b[1;33m\u001b[0m\u001b[0m\n\u001b[0;32m    688\u001b[0m \u001b[1;33m\u001b[0m\u001b[0m\n",
      "\u001b[1;32m~\\anaconda3\\lib\\site-packages\\pandas\\io\\parsers.py\u001b[0m in \u001b[0;36m_read\u001b[1;34m(filepath_or_buffer, kwds)\u001b[0m\n\u001b[0;32m    450\u001b[0m \u001b[1;33m\u001b[0m\u001b[0m\n\u001b[0;32m    451\u001b[0m     \u001b[1;31m# Create the parser.\u001b[0m\u001b[1;33m\u001b[0m\u001b[1;33m\u001b[0m\u001b[1;33m\u001b[0m\u001b[0m\n\u001b[1;32m--> 452\u001b[1;33m     \u001b[0mparser\u001b[0m \u001b[1;33m=\u001b[0m \u001b[0mTextFileReader\u001b[0m\u001b[1;33m(\u001b[0m\u001b[0mfp_or_buf\u001b[0m\u001b[1;33m,\u001b[0m \u001b[1;33m**\u001b[0m\u001b[0mkwds\u001b[0m\u001b[1;33m)\u001b[0m\u001b[1;33m\u001b[0m\u001b[1;33m\u001b[0m\u001b[0m\n\u001b[0m\u001b[0;32m    453\u001b[0m \u001b[1;33m\u001b[0m\u001b[0m\n\u001b[0;32m    454\u001b[0m     \u001b[1;32mif\u001b[0m \u001b[0mchunksize\u001b[0m \u001b[1;32mor\u001b[0m \u001b[0miterator\u001b[0m\u001b[1;33m:\u001b[0m\u001b[1;33m\u001b[0m\u001b[1;33m\u001b[0m\u001b[0m\n",
      "\u001b[1;32m~\\anaconda3\\lib\\site-packages\\pandas\\io\\parsers.py\u001b[0m in \u001b[0;36m__init__\u001b[1;34m(self, f, engine, **kwds)\u001b[0m\n\u001b[0;32m    944\u001b[0m             \u001b[0mself\u001b[0m\u001b[1;33m.\u001b[0m\u001b[0moptions\u001b[0m\u001b[1;33m[\u001b[0m\u001b[1;34m\"has_index_names\"\u001b[0m\u001b[1;33m]\u001b[0m \u001b[1;33m=\u001b[0m \u001b[0mkwds\u001b[0m\u001b[1;33m[\u001b[0m\u001b[1;34m\"has_index_names\"\u001b[0m\u001b[1;33m]\u001b[0m\u001b[1;33m\u001b[0m\u001b[1;33m\u001b[0m\u001b[0m\n\u001b[0;32m    945\u001b[0m \u001b[1;33m\u001b[0m\u001b[0m\n\u001b[1;32m--> 946\u001b[1;33m         \u001b[0mself\u001b[0m\u001b[1;33m.\u001b[0m\u001b[0m_make_engine\u001b[0m\u001b[1;33m(\u001b[0m\u001b[0mself\u001b[0m\u001b[1;33m.\u001b[0m\u001b[0mengine\u001b[0m\u001b[1;33m)\u001b[0m\u001b[1;33m\u001b[0m\u001b[1;33m\u001b[0m\u001b[0m\n\u001b[0m\u001b[0;32m    947\u001b[0m \u001b[1;33m\u001b[0m\u001b[0m\n\u001b[0;32m    948\u001b[0m     \u001b[1;32mdef\u001b[0m \u001b[0mclose\u001b[0m\u001b[1;33m(\u001b[0m\u001b[0mself\u001b[0m\u001b[1;33m)\u001b[0m\u001b[1;33m:\u001b[0m\u001b[1;33m\u001b[0m\u001b[1;33m\u001b[0m\u001b[0m\n",
      "\u001b[1;32m~\\anaconda3\\lib\\site-packages\\pandas\\io\\parsers.py\u001b[0m in \u001b[0;36m_make_engine\u001b[1;34m(self, engine)\u001b[0m\n\u001b[0;32m   1176\u001b[0m     \u001b[1;32mdef\u001b[0m \u001b[0m_make_engine\u001b[0m\u001b[1;33m(\u001b[0m\u001b[0mself\u001b[0m\u001b[1;33m,\u001b[0m \u001b[0mengine\u001b[0m\u001b[1;33m=\u001b[0m\u001b[1;34m\"c\"\u001b[0m\u001b[1;33m)\u001b[0m\u001b[1;33m:\u001b[0m\u001b[1;33m\u001b[0m\u001b[1;33m\u001b[0m\u001b[0m\n\u001b[0;32m   1177\u001b[0m         \u001b[1;32mif\u001b[0m \u001b[0mengine\u001b[0m \u001b[1;33m==\u001b[0m \u001b[1;34m\"c\"\u001b[0m\u001b[1;33m:\u001b[0m\u001b[1;33m\u001b[0m\u001b[1;33m\u001b[0m\u001b[0m\n\u001b[1;32m-> 1178\u001b[1;33m             \u001b[0mself\u001b[0m\u001b[1;33m.\u001b[0m\u001b[0m_engine\u001b[0m \u001b[1;33m=\u001b[0m \u001b[0mCParserWrapper\u001b[0m\u001b[1;33m(\u001b[0m\u001b[0mself\u001b[0m\u001b[1;33m.\u001b[0m\u001b[0mf\u001b[0m\u001b[1;33m,\u001b[0m \u001b[1;33m**\u001b[0m\u001b[0mself\u001b[0m\u001b[1;33m.\u001b[0m\u001b[0moptions\u001b[0m\u001b[1;33m)\u001b[0m\u001b[1;33m\u001b[0m\u001b[1;33m\u001b[0m\u001b[0m\n\u001b[0m\u001b[0;32m   1179\u001b[0m         \u001b[1;32melse\u001b[0m\u001b[1;33m:\u001b[0m\u001b[1;33m\u001b[0m\u001b[1;33m\u001b[0m\u001b[0m\n\u001b[0;32m   1180\u001b[0m             \u001b[1;32mif\u001b[0m \u001b[0mengine\u001b[0m \u001b[1;33m==\u001b[0m \u001b[1;34m\"python\"\u001b[0m\u001b[1;33m:\u001b[0m\u001b[1;33m\u001b[0m\u001b[1;33m\u001b[0m\u001b[0m\n",
      "\u001b[1;32m~\\anaconda3\\lib\\site-packages\\pandas\\io\\parsers.py\u001b[0m in \u001b[0;36m__init__\u001b[1;34m(self, src, **kwds)\u001b[0m\n\u001b[0;32m   2006\u001b[0m         \u001b[0mkwds\u001b[0m\u001b[1;33m[\u001b[0m\u001b[1;34m\"usecols\"\u001b[0m\u001b[1;33m]\u001b[0m \u001b[1;33m=\u001b[0m \u001b[0mself\u001b[0m\u001b[1;33m.\u001b[0m\u001b[0musecols\u001b[0m\u001b[1;33m\u001b[0m\u001b[1;33m\u001b[0m\u001b[0m\n\u001b[0;32m   2007\u001b[0m \u001b[1;33m\u001b[0m\u001b[0m\n\u001b[1;32m-> 2008\u001b[1;33m         \u001b[0mself\u001b[0m\u001b[1;33m.\u001b[0m\u001b[0m_reader\u001b[0m \u001b[1;33m=\u001b[0m \u001b[0mparsers\u001b[0m\u001b[1;33m.\u001b[0m\u001b[0mTextReader\u001b[0m\u001b[1;33m(\u001b[0m\u001b[0msrc\u001b[0m\u001b[1;33m,\u001b[0m \u001b[1;33m**\u001b[0m\u001b[0mkwds\u001b[0m\u001b[1;33m)\u001b[0m\u001b[1;33m\u001b[0m\u001b[1;33m\u001b[0m\u001b[0m\n\u001b[0m\u001b[0;32m   2009\u001b[0m         \u001b[0mself\u001b[0m\u001b[1;33m.\u001b[0m\u001b[0munnamed_cols\u001b[0m \u001b[1;33m=\u001b[0m \u001b[0mself\u001b[0m\u001b[1;33m.\u001b[0m\u001b[0m_reader\u001b[0m\u001b[1;33m.\u001b[0m\u001b[0munnamed_cols\u001b[0m\u001b[1;33m\u001b[0m\u001b[1;33m\u001b[0m\u001b[0m\n\u001b[0;32m   2010\u001b[0m \u001b[1;33m\u001b[0m\u001b[0m\n",
      "\u001b[1;32mpandas\\_libs\\parsers.pyx\u001b[0m in \u001b[0;36mpandas._libs.parsers.TextReader.__cinit__\u001b[1;34m()\u001b[0m\n",
      "\u001b[1;32mpandas\\_libs\\parsers.pyx\u001b[0m in \u001b[0;36mpandas._libs.parsers.TextReader._setup_parser_source\u001b[1;34m()\u001b[0m\n",
      "\u001b[1;31mPermissionError\u001b[0m: [Errno 13] Permission denied: 'Bayesian Opt'"
     ]
    }
   ],
   "source": [
    "data = pd.read_csv(os.listdir()[2])\n",
    "\n",
    "refined_data= data[(data['Product']==1)&(data['Store']==1)].iloc[:-23,:]\n",
    "backup_data = data[(data['Product']==1)&(data['Store']==1)].iloc[-23:,:]\n",
    "\n",
    "plt.plot(refined_data['Weekly_Units_Sold'])\n",
    "plt.show()\n",
    "plt.plot(backup_data['Weekly_Units_Sold'])\n",
    "plt.show()\n",
    "\n",
    "len(refined_data)"
   ]
  },
  {
   "cell_type": "code",
   "execution_count": null,
   "metadata": {},
   "outputs": [],
   "source": [
    "refined_data['Discount'] = refined_data['Base Price']-refined_data['Price']"
   ]
  },
  {
   "cell_type": "code",
   "execution_count": null,
   "metadata": {},
   "outputs": [],
   "source": [
    "final_data = refined_data[['Base Price', 'Discount', 'Weekly_Units_Sold']].groupby('Base Price').mean()\n",
    "\n",
    "plt.scatter(final_data.index,final_data['Weekly_Units_Sold'])\n",
    "plt.title('Price v/s Mean of Weekly units sold plot for store 1, product 1 (grouped)')\n",
    "plt.xlabel('Base Price')\n",
    "plt.ylabel('Mean of Weekly units sold')\n",
    "plt.show()\n",
    "\n",
    "plt.scatter(final_data['Discount'],final_data['Weekly_Units_Sold'])\n",
    "plt.title('Discount v/s Mean of Weekly units sold plot for store 1, product 1 (grouped)')\n",
    "plt.xlabel('Discount')\n",
    "\n",
    "plt.ylabel('Mean of Weekly units sold')\n",
    "plt.show()\n",
    "\n",
    "from sklearn.linear_model import LinearRegression\n",
    "from sklearn import metrics\n",
    "\n",
    "X = final_data.iloc[:,:-1].reset_index().values\n",
    "y = final_data.iloc[:,-1].values\n",
    "\n",
    "model = LinearRegression()\n",
    "model.fit(X,y)\n",
    "\n",
    "print(model.coef_)\n",
    "print(model.intercept_)\n",
    "\n",
    "print(model.score(X,y))"
   ]
  },
  {
   "cell_type": "code",
   "execution_count": 25,
   "metadata": {},
   "outputs": [],
   "source": [
    "def obj_func(price, discount):\n",
    "    return (price-discount)*(-20.48*price-2.56*discount+375.003)"
   ]
  },
  {
   "cell_type": "code",
   "execution_count": 26,
   "metadata": {},
   "outputs": [
    {
     "name": "stdout",
     "output_type": "stream",
     "text": [
      "|   iter    |  target   | discount  |   price   |\n",
      "-------------------------------------------------\n",
      "| \u001b[0m 1       \u001b[0m | \u001b[0m 1.501e+0\u001b[0m | \u001b[0m 0.9174  \u001b[0m | \u001b[0m 10.71   \u001b[0m |\n",
      "| \u001b[95m 2       \u001b[0m | \u001b[95m 1.69e+03\u001b[0m | \u001b[95m 0.000251\u001b[0m | \u001b[95m 10.29   \u001b[0m |\n",
      "| \u001b[0m 3       \u001b[0m | \u001b[0m 1.637e+0\u001b[0m | \u001b[0m 0.3229  \u001b[0m | \u001b[0m 10.08   \u001b[0m |\n",
      "| \u001b[0m 4       \u001b[0m | \u001b[0m 1.611e+0\u001b[0m | \u001b[0m 0.4098  \u001b[0m | \u001b[0m 10.34   \u001b[0m |\n",
      "| \u001b[0m 5       \u001b[0m | \u001b[0m 1.517e+0\u001b[0m | \u001b[0m 0.8729  \u001b[0m | \u001b[0m 10.53   \u001b[0m |\n",
      "| \u001b[0m 6       \u001b[0m | \u001b[0m 1.648e+0\u001b[0m | \u001b[0m 0.0     \u001b[0m | \u001b[0m 10.99   \u001b[0m |\n",
      "| \u001b[0m 7       \u001b[0m | \u001b[0m 1.284e+0\u001b[0m | \u001b[0m 2.2     \u001b[0m | \u001b[0m 9.99    \u001b[0m |\n",
      "| \u001b[95m 8       \u001b[0m | \u001b[95m 1.702e+0\u001b[0m | \u001b[95m 0.0     \u001b[0m | \u001b[95m 9.99    \u001b[0m |\n",
      "| \u001b[0m 9       \u001b[0m | \u001b[0m 1.702e+0\u001b[0m | \u001b[0m 0.0     \u001b[0m | \u001b[0m 9.99    \u001b[0m |\n",
      "| \u001b[0m 10      \u001b[0m | \u001b[0m 1.702e+0\u001b[0m | \u001b[0m 0.0     \u001b[0m | \u001b[0m 9.99    \u001b[0m |\n",
      "| \u001b[0m 11      \u001b[0m | \u001b[0m 1.702e+0\u001b[0m | \u001b[0m 0.0     \u001b[0m | \u001b[0m 9.99    \u001b[0m |\n",
      "| \u001b[0m 12      \u001b[0m | \u001b[0m 1.702e+0\u001b[0m | \u001b[0m 0.0     \u001b[0m | \u001b[0m 9.99    \u001b[0m |\n",
      "| \u001b[0m 13      \u001b[0m | \u001b[0m 1.702e+0\u001b[0m | \u001b[0m 0.0     \u001b[0m | \u001b[0m 9.99    \u001b[0m |\n",
      "| \u001b[0m 14      \u001b[0m | \u001b[0m 1.702e+0\u001b[0m | \u001b[0m 0.0     \u001b[0m | \u001b[0m 9.99    \u001b[0m |\n",
      "| \u001b[0m 15      \u001b[0m | \u001b[0m 1.702e+0\u001b[0m | \u001b[0m 0.0     \u001b[0m | \u001b[0m 9.99    \u001b[0m |\n",
      "| \u001b[0m 16      \u001b[0m | \u001b[0m 1.702e+0\u001b[0m | \u001b[0m 0.0     \u001b[0m | \u001b[0m 9.99    \u001b[0m |\n",
      "| \u001b[0m 17      \u001b[0m | \u001b[0m 1.702e+0\u001b[0m | \u001b[0m 0.0     \u001b[0m | \u001b[0m 9.99    \u001b[0m |\n",
      "| \u001b[0m 18      \u001b[0m | \u001b[0m 1.702e+0\u001b[0m | \u001b[0m 0.0     \u001b[0m | \u001b[0m 9.99    \u001b[0m |\n",
      "| \u001b[0m 19      \u001b[0m | \u001b[0m 1.702e+0\u001b[0m | \u001b[0m 0.0     \u001b[0m | \u001b[0m 9.99    \u001b[0m |\n",
      "| \u001b[0m 20      \u001b[0m | \u001b[0m 1.702e+0\u001b[0m | \u001b[0m 0.0     \u001b[0m | \u001b[0m 9.99    \u001b[0m |\n",
      "| \u001b[0m 21      \u001b[0m | \u001b[0m 1.702e+0\u001b[0m | \u001b[0m 0.0     \u001b[0m | \u001b[0m 9.99    \u001b[0m |\n",
      "| \u001b[0m 22      \u001b[0m | \u001b[0m 1.702e+0\u001b[0m | \u001b[0m 0.0     \u001b[0m | \u001b[0m 9.99    \u001b[0m |\n",
      "| \u001b[0m 23      \u001b[0m | \u001b[0m 1.702e+0\u001b[0m | \u001b[0m 0.0     \u001b[0m | \u001b[0m 9.99    \u001b[0m |\n",
      "| \u001b[0m 24      \u001b[0m | \u001b[0m 1.702e+0\u001b[0m | \u001b[0m 0.0     \u001b[0m | \u001b[0m 9.99    \u001b[0m |\n",
      "| \u001b[0m 25      \u001b[0m | \u001b[0m 1.702e+0\u001b[0m | \u001b[0m 0.0     \u001b[0m | \u001b[0m 9.99    \u001b[0m |\n",
      "| \u001b[0m 26      \u001b[0m | \u001b[0m 1.702e+0\u001b[0m | \u001b[0m 0.0     \u001b[0m | \u001b[0m 9.99    \u001b[0m |\n",
      "| \u001b[0m 27      \u001b[0m | \u001b[0m 1.702e+0\u001b[0m | \u001b[0m 0.0     \u001b[0m | \u001b[0m 9.99    \u001b[0m |\n",
      "| \u001b[0m 28      \u001b[0m | \u001b[0m 1.702e+0\u001b[0m | \u001b[0m 0.0     \u001b[0m | \u001b[0m 9.99    \u001b[0m |\n",
      "| \u001b[0m 29      \u001b[0m | \u001b[0m 1.702e+0\u001b[0m | \u001b[0m 0.0     \u001b[0m | \u001b[0m 9.99    \u001b[0m |\n",
      "| \u001b[0m 30      \u001b[0m | \u001b[0m 1.702e+0\u001b[0m | \u001b[0m 0.0     \u001b[0m | \u001b[0m 9.99    \u001b[0m |\n",
      "=================================================\n",
      "{'target': 1702.3739219999998, 'params': {'discount': 0.0, 'price': 9.99}}\n"
     ]
    }
   ],
   "source": [
    "from bayes_opt import BayesianOptimization\n",
    "\n",
    "pbounds = {'price':(min(refined_data['Base Price']), max(refined_data['Base Price'])), 'discount': (min(refined_data['Discount']), max(refined_data['Discount']))}\n",
    "\n",
    "optimizer= BayesianOptimization(f = obj_func, pbounds = pbounds, verbose = 2, random_state = 1)\n",
    "\n",
    "optimizer.maximize(init_points = 5, n_iter = 25)\n",
    "\n",
    "print(optimizer.max)"
   ]
  },
  {
   "cell_type": "code",
   "execution_count": 27,
   "metadata": {},
   "outputs": [
    {
     "data": {
      "text/plain": [
       "170.4074074074074"
      ]
     },
     "execution_count": 27,
     "metadata": {},
     "output_type": "execute_result"
    }
   ],
   "source": [
    "1702.37/9.99"
   ]
  },
  {
   "cell_type": "code",
   "execution_count": null,
   "metadata": {},
   "outputs": [],
   "source": []
  }
 ],
 "metadata": {
  "hide_input": false,
  "kernelspec": {
   "display_name": "Python 3",
   "language": "python",
   "name": "python3"
  },
  "language_info": {
   "codemirror_mode": {
    "name": "ipython",
    "version": 3
   },
   "file_extension": ".py",
   "mimetype": "text/x-python",
   "name": "python",
   "nbconvert_exporter": "python",
   "pygments_lexer": "ipython3",
   "version": "3.8.5"
  }
 },
 "nbformat": 4,
 "nbformat_minor": 5
}
